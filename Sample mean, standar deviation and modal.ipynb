{
 "cells": [
  {
   "cell_type": "code",
   "execution_count": 9,
   "metadata": {},
   "outputs": [
    {
     "name": "stdout",
     "output_type": "stream",
     "text": [
      "Hi, how many data are you going to introduce?:4\n",
      "Introduce values:2\n",
      "Introduce values:3\n",
      "Introduce values:2\n",
      "Introduce values:3\n",
      "\"What do you want to check?:\n",
      "    1)mean\n",
      "    2)standar deviation\n",
      "    3)modal\n",
      "    3\n",
      "The modal is: [2, 3]\n"
     ]
    }
   ],
   "source": [
    "sum_x = 0\n",
    "a=0\n",
    "mean=0\n",
    "v=0\n",
    "sd=0\n",
    "modal=0\n",
    "data=[]\n",
    "y=0\n",
    "n= int(input(\"Hi, how many data are you going to introduce?:\"))\n",
    "for i in range(0,n):\n",
    "    x = int(input(f\"Introduce values:\"))\n",
    "    data.append(x)\n",
    "    sum_x += x\n",
    "    mean = sum_x/n\n",
    "    v += ((x-mean)/(n-1))\n",
    "    sd = v**.5\n",
    "    rep=0\n",
    "for i in data:\n",
    "    appears=data.count(i)\n",
    "    if appears>rep:\n",
    "        rep=appears\n",
    "    \n",
    "    modal=[]\n",
    "    for i in data:\n",
    "        appears=data.count(i)\n",
    "        if appears==rep and i not in modal:\n",
    "            modal.append(i)\n",
    "\n",
    "\n",
    "a = int(input(\"\"\"\"What do you want to check?:\n",
    "    1)mean\n",
    "    2)standar deviation\n",
    "    3)modal\n",
    "    \"\"\"))\n",
    "if a==1:\n",
    "     print(\"The sample mean is:\",mean)\n",
    "elif a==2:\n",
    "     print(\"The standar deviation is:\",sd)\n",
    "elif a ==3:\n",
    "     print(\"The modal is:\",modal)\n",
    "    \n",
    "\n",
    "    \n",
    "      \n",
    "\n"
   ]
  },
  {
   "cell_type": "code",
   "execution_count": null,
   "metadata": {},
   "outputs": [],
   "source": []
  }
 ],
 "metadata": {
  "kernelspec": {
   "display_name": "Python 3",
   "language": "python",
   "name": "python3"
  }
 },
 "nbformat": 4,
 "nbformat_minor": 2
}
