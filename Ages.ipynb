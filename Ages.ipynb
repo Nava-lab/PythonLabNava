{
 "cells": [
  {
   "cell_type": "code",
   "execution_count": 2,
   "metadata": {},
   "outputs": [
    {
     "name": "stdout",
     "output_type": "stream",
     "text": [
      "Hi Pedro, Carlos and Omar\n",
      "Today I want to know your age and take a sample mean\n",
      "How old are you guys\n",
      "23\n",
      "23\n",
      "54\n",
      "This is the Sample mean of your ages 33\n",
      "That's all thank you guys\n"
     ]
    }
   ],
   "source": [
    "print(\"Hi Pedro, Carlos and Omar\")\n",
    "print(\"Today I want to know your age and take a sample mean\")\n",
    "print(\"How old are you guys\")\n",
    "p = int(input())\n",
    "c = int(input())\n",
    "o = int(input())\n",
    "sample_mean = int(((p + c + o)/3))\n",
    "print(\"This is the Sample mean of your ages\", sample_mean)\n",
    "print(\"That's all thank you guys\")"
   ]
  },
  {
   "cell_type": "code",
   "execution_count": null,
   "metadata": {},
   "outputs": [],
   "source": []
  }
 ],
 "metadata": {
  "kernelspec": {
   "display_name": "Python 3",
   "language": "python",
   "name": "python3"
  },
  "language_info": {
   "codemirror_mode": {
    "name": "ipython",
    "version": 3
   },
   "file_extension": ".py",
   "mimetype": "text/x-python",
   "name": "python",
   "nbconvert_exporter": "python",
   "pygments_lexer": "ipython3",
   "version": "3.7.3"
  }
 },
 "nbformat": 4,
 "nbformat_minor": 2
}
