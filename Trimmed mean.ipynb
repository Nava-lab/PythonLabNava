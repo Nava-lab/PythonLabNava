{
 "cells": [
  {
   "cell_type": "code",
   "execution_count": 1,
   "metadata": {},
   "outputs": [
    {
     "name": "stdout",
     "output_type": "stream",
     "text": [
      "Hi, how many data are you going to introduce?:10\n",
      "Introduce values:1\n",
      "Introduce values:5\n",
      "Introduce values:4\n",
      "Introduce values:392\n",
      "Introduce values:0\n",
      "Introduce values:49\n",
      "Introduce values:29\n",
      "Introduce values:4\n",
      "Introduce values:5\n",
      "Introduce values:6\n",
      "This are your values: [0, 1, 4, 4, 5, 5, 6, 29, 49, 392]\n",
      "What percent are you going to use (Only natural numbers)?:20\n",
      "The trimmed mean is: 8.833333333333334\n"
     ]
    }
   ],
   "source": [
    "values= []\n",
    "n= int(input(\"Hi, how many data are you going to introduce?:\"))\n",
    "for i in range(0,n):\n",
    "    x = int(input(f\"Introduce values:\"))\n",
    "    values.append(x)\n",
    "values=sorted(values)\n",
    "print(\"This are your values:\",values)\n",
    "per=int(input(\"What percent are you going to use (Only natural numbers)?:\"))\n",
    "w=(per/100)*n\n",
    "\n",
    "t=values[int(w):-int(w)]\n",
    "print(\"The trimmed mean is:\",sum(t)/len(t))\n",
    "\n"
   ]
  },
  {
   "cell_type": "code",
   "execution_count": null,
   "metadata": {},
   "outputs": [],
   "source": []
  }
 ],
 "metadata": {
  "kernelspec": {
   "display_name": "Python 3",
   "language": "python",
   "name": "python3"
  },
  "language_info": {
   "codemirror_mode": {
    "name": "ipython",
    "version": 3
   },
   "file_extension": ".py",
   "mimetype": "text/x-python",
   "name": "python",
   "nbconvert_exporter": "python",
   "pygments_lexer": "ipython3",
   "version": "3.7.4"
  }
 },
 "nbformat": 4,
 "nbformat_minor": 2
}
