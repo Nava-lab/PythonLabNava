{
 "cells": [
  {
   "cell_type": "markdown",
   "metadata": {},
   "source": [
    "# By: Nava Robles Oscar Eduardo 3C and Rodriguez Ruiz Walter Javier 3C"
   ]
  },
  {
   "cell_type": "markdown",
   "metadata": {},
   "source": [
    "# Introduction of Python 3\n"
   ]
  },
  {
   "cell_type": "markdown",
   "metadata": {},
   "source": [
    "## A good first program"
   ]
  },
  {
   "cell_type": "markdown",
   "metadata": {},
   "source": [
    "## Exercise 1"
   ]
  },
  {
   "cell_type": "markdown",
   "metadata": {},
   "source": [
    "The command \"print\" is used to write a text in a program for sending a message for the user."
   ]
  },
  {
   "cell_type": "code",
   "execution_count": 137,
   "metadata": {},
   "outputs": [
    {
     "name": "stdout",
     "output_type": "stream",
     "text": [
      "Hi, everyone\n",
      "You can do it\n",
      "The derivative of x^2 is 2x\n",
      "One day, the man go to the office to...\n"
     ]
    }
   ],
   "source": [
    "print (\"Hi, everyone\")\n",
    "print (\"You can do it\")\n",
    "print(\"The derivative of x^2 is 2x\")\n",
    "print (\"One day, the man go to the office to...\")"
   ]
  },
  {
   "cell_type": "markdown",
   "metadata": {},
   "source": [
    "The inverted commas on the parenthesis and in the slides of the text are indicating the text that will send the program."
   ]
  },
  {
   "cell_type": "markdown",
   "metadata": {},
   "source": [
    "## Comments and Pound Characters"
   ]
  },
  {
   "cell_type": "markdown",
   "metadata": {},
   "source": [
    "## Exercise 2"
   ]
  },
  {
   "cell_type": "markdown",
   "metadata": {},
   "source": [
    "The comments and pound characters are used to identify the instructions that is making the program, but is only for the programmer."
   ]
  },
  {
   "cell_type": "code",
   "execution_count": 138,
   "metadata": {},
   "outputs": [
    {
     "name": "stdout",
     "output_type": "stream",
     "text": [
      "The derivative of e is 0\n",
      "It´s true\n"
     ]
    }
   ],
   "source": [
    "# A comment, this is so you can read your program later\n",
    "# Anything after the # is ignored by python\n",
    "print(\"The derivative of e is 0\")# and comment after is ignored\n",
    "# You can also use a comment to \"disable\" or comment out code:\n",
    "# print (\"It´s false\")\n",
    "print(\"It´s true\") "
   ]
  },
  {
   "cell_type": "markdown",
   "metadata": {},
   "source": [
    "## Numbers and Math"
   ]
  },
  {
   "cell_type": "markdown",
   "metadata": {},
   "source": [
    "## Exercise 3"
   ]
  },
  {
   "cell_type": "markdown",
   "metadata": {},
   "source": [
    "The arimetic symbols in a programation are used to make operations quicklier without difficults when we make the operations."
   ]
  },
  {
   "cell_type": "code",
   "execution_count": 139,
   "metadata": {},
   "outputs": [
    {
     "name": "stdout",
     "output_type": "stream",
     "text": [
      "How much money I earned this month?\n",
      "More than 1000 dollars 40.0\n",
      "Now I need to know how much I spend\n",
      "100.0\n",
      "Is false that 100-2*0.5<50+320/10?\n",
      "False\n"
     ]
    }
   ],
   "source": [
    "print(\"How much money I earned this month?\")\n",
    "\n",
    "print(\"More than 1000 dollars\", 20* 100 / 50)\n",
    "\n",
    "print(\"Now I need to know how much I spend\")\n",
    "\n",
    "print(20*100/20)\n",
    "\n",
    "print(\"Is false that 100-2*0.5<50+320/10?\")\n",
    "print(100-2*0.5<50+320/10)\n"
   ]
  },
  {
   "cell_type": "markdown",
   "metadata": {},
   "source": [
    "## Variables and names"
   ]
  },
  {
   "cell_type": "markdown",
   "metadata": {},
   "source": [
    "## Exercise 4"
   ]
  },
  {
   "cell_type": "markdown",
   "metadata": {},
   "source": [
    "The variables and names are numbers but simplified, in way writing the numbers, you can put it stating letters replacing the numbers to letters."
   ]
  },
  {
   "cell_type": "code",
   "execution_count": 140,
   "metadata": {},
   "outputs": [
    {
     "name": "stdout",
     "output_type": "stream",
     "text": [
      "x=9,y=15,z=10\n",
      "What is the answer of x-z/y*x +z*x?\n",
      "89.99259259259259\n"
     ]
    }
   ],
   "source": [
    "x=9\n",
    "y=15\n",
    "z=10\n",
    "print(\"x=9,y=15,z=10\")\n",
    "print(\"What is the answer of x-z/y*x +z*x?\")\n",
    "print(((x-z)/(y*x))+(z*x))"
   ]
  },
  {
   "cell_type": "markdown",
   "metadata": {},
   "source": [
    "## More variables and Printing"
   ]
  },
  {
   "cell_type": "markdown",
   "metadata": {},
   "source": [
    "## Exercise 5"
   ]
  },
  {
   "cell_type": "markdown",
   "metadata": {},
   "source": [
    "Now, we can make a conversion of numbers just putting the letters that the user see, similar than in the exercise 4."
   ]
  },
  {
   "cell_type": "code",
   "execution_count": 142,
   "metadata": {},
   "outputs": [
    {
     "name": "stdout",
     "output_type": "stream",
     "text": [
      "a=\n",
      "100\n",
      "b=\n",
      "50\n",
      "c=\n",
      "25\n",
      "The result of (a*b/c + (a-b+c/2)) is:\n",
      "262.5\n"
     ]
    }
   ],
   "source": [
    "a=100\n",
    "b=50\n",
    "c=25\n",
    "print(\"a=\")\n",
    "print(a)\n",
    "print(\"b=\")\n",
    "print(b)\n",
    "print(\"c=\")\n",
    "print(c)      \n",
    "      \n",
    "print(\"The result of (a*b/c + (a-b+c/2)) is:\")\n",
    "\n",
    "print(a*b/c + (a-b+c/2))"
   ]
  },
  {
   "cell_type": "markdown",
   "metadata": {},
   "source": [
    "# Strings and Text"
   ]
  },
  {
   "cell_type": "markdown",
   "metadata": {},
   "source": [
    "## Exercise 6"
   ]
  },
  {
   "cell_type": "markdown",
   "metadata": {},
   "source": [
    "Here i use strings giving a name to a variable so I can use that variable to do my program more short than others using only one letter.\n",
    "\n",
    "Here are some examples:"
   ]
  },
  {
   "cell_type": "code",
   "execution_count": 74,
   "metadata": {},
   "outputs": [],
   "source": [
    "Red_cars = 100"
   ]
  },
  {
   "cell_type": "code",
   "execution_count": 75,
   "metadata": {},
   "outputs": [],
   "source": [
    "x = f\"There are {Red_cars} red cars.\""
   ]
  },
  {
   "cell_type": "code",
   "execution_count": 78,
   "metadata": {},
   "outputs": [],
   "source": [
    "ex = \"expensive\""
   ]
  },
  {
   "cell_type": "code",
   "execution_count": 85,
   "metadata": {},
   "outputs": [],
   "source": [
    "ch = \"cheaper\""
   ]
  },
  {
   "cell_type": "code",
   "execution_count": 89,
   "metadata": {},
   "outputs": [],
   "source": [
    "y = f\"Those are {ex} and those are more {ch}.\""
   ]
  },
  {
   "cell_type": "code",
   "execution_count": 87,
   "metadata": {},
   "outputs": [
    {
     "name": "stdout",
     "output_type": "stream",
     "text": [
      "There are 100 red cars.\n"
     ]
    }
   ],
   "source": [
    "print(x)"
   ]
  },
  {
   "cell_type": "code",
   "execution_count": 90,
   "metadata": {},
   "outputs": [
    {
     "name": "stdout",
     "output_type": "stream",
     "text": [
      "Those are expensive and those are more cheaper.\n"
     ]
    }
   ],
   "source": [
    "print(y)"
   ]
  },
  {
   "cell_type": "code",
   "execution_count": 94,
   "metadata": {},
   "outputs": [],
   "source": [
    "z = \"Are you joking right?\""
   ]
  },
  {
   "cell_type": "code",
   "execution_count": 95,
   "metadata": {},
   "outputs": [
    {
     "name": "stdout",
     "output_type": "stream",
     "text": [
      "Are you joking right?\n"
     ]
    }
   ],
   "source": [
    "print(z)"
   ]
  },
  {
   "cell_type": "code",
   "execution_count": 96,
   "metadata": {},
   "outputs": [],
   "source": [
    "xx = \"I'm not going to buy any of these cars because I don't like the color red\""
   ]
  },
  {
   "cell_type": "code",
   "execution_count": 97,
   "metadata": {},
   "outputs": [
    {
     "name": "stdout",
     "output_type": "stream",
     "text": [
      "I'm not going to buy any of these cars because I don't like the color red\n"
     ]
    }
   ],
   "source": [
    "print(xx)"
   ]
  },
  {
   "cell_type": "markdown",
   "metadata": {},
   "source": [
    "# More Printing"
   ]
  },
  {
   "cell_type": "markdown",
   "metadata": {},
   "source": [
    "## Exercise 7"
   ]
  },
  {
   "cell_type": "markdown",
   "metadata": {},
   "source": [
    "I learn how can I join some words using print and added one by one and if I need a space i just use the coma."
   ]
  },
  {
   "cell_type": "code",
   "execution_count": 26,
   "metadata": {},
   "outputs": [
    {
     "name": "stdout",
     "output_type": "stream",
     "text": [
      "I had failed the exam\n"
     ]
    }
   ],
   "source": [
    "print(\"I had failed the exam\")"
   ]
  },
  {
   "cell_type": "code",
   "execution_count": 27,
   "metadata": {},
   "outputs": [
    {
     "name": "stdout",
     "output_type": "stream",
     "text": [
      "I was scared as little kid.\n"
     ]
    }
   ],
   "source": [
    "print(\"I was scared as {}.\".format('little kid'))"
   ]
  },
  {
   "cell_type": "code",
   "execution_count": 29,
   "metadata": {},
   "outputs": [
    {
     "name": "stdout",
     "output_type": "stream",
     "text": [
      "What can I do, I asked Myself\n"
     ]
    }
   ],
   "source": [
    "print(\"What can I do, I asked Myself\")"
   ]
  },
  {
   "cell_type": "code",
   "execution_count": 84,
   "metadata": {},
   "outputs": [
    {
     "name": "stdout",
     "output_type": "stream",
     "text": [
      "????????????????????\n"
     ]
    }
   ],
   "source": [
    "print(\"?\" * 20) # What'd that do?"
   ]
  },
  {
   "cell_type": "code",
   "execution_count": 30,
   "metadata": {},
   "outputs": [],
   "source": [
    "end1 = \"S\""
   ]
  },
  {
   "cell_type": "code",
   "execution_count": 31,
   "metadata": {},
   "outputs": [],
   "source": [
    "end2 = \"T\""
   ]
  },
  {
   "cell_type": "code",
   "execution_count": 32,
   "metadata": {},
   "outputs": [],
   "source": [
    "end3 = \"U\""
   ]
  },
  {
   "cell_type": "code",
   "execution_count": 33,
   "metadata": {},
   "outputs": [],
   "source": [
    "end4 = \"D\""
   ]
  },
  {
   "cell_type": "code",
   "execution_count": 34,
   "metadata": {},
   "outputs": [],
   "source": [
    "end5 = \"Y\""
   ]
  },
  {
   "cell_type": "code",
   "execution_count": 35,
   "metadata": {},
   "outputs": [],
   "source": [
    "end6 = \"M\""
   ]
  },
  {
   "cell_type": "code",
   "execution_count": 36,
   "metadata": {},
   "outputs": [],
   "source": [
    "end7 = \"O\""
   ]
  },
  {
   "cell_type": "code",
   "execution_count": 37,
   "metadata": {},
   "outputs": [],
   "source": [
    "end8 = \"R\""
   ]
  },
  {
   "cell_type": "code",
   "execution_count": 38,
   "metadata": {},
   "outputs": [],
   "source": [
    "end9 = \"E\""
   ]
  },
  {
   "cell_type": "code",
   "execution_count": 39,
   "metadata": {},
   "outputs": [],
   "source": [
    "end10 = \"!\""
   ]
  },
  {
   "cell_type": "code",
   "execution_count": 40,
   "metadata": {},
   "outputs": [],
   "source": [
    "end11 = \"!\""
   ]
  },
  {
   "cell_type": "code",
   "execution_count": 41,
   "metadata": {},
   "outputs": [],
   "source": [
    "end12 = \"!\""
   ]
  },
  {
   "cell_type": "code",
   "execution_count": 45,
   "metadata": {},
   "outputs": [
    {
     "name": "stdout",
     "output_type": "stream",
     "text": [
      "STUDY MORE!!!\n"
     ]
    }
   ],
   "source": [
    "print(end1+end2+end3+end4+end5,end6+end7+end8+end9+end10+end11+end12)"
   ]
  },
  {
   "cell_type": "markdown",
   "metadata": {},
   "source": [
    "# Printing, Printing"
   ]
  },
  {
   "cell_type": "markdown",
   "metadata": {},
   "source": [
    "## Exercise 8"
   ]
  },
  {
   "cell_type": "markdown",
   "metadata": {},
   "source": [
    "In this exercise we learn how can we distribute the text in diferent parts using formatter.format to limit some words as much as we want."
   ]
  },
  {
   "cell_type": "code",
   "execution_count": 115,
   "metadata": {},
   "outputs": [],
   "source": [
    "formatter = \"{} {} {} {} {}\""
   ]
  },
  {
   "cell_type": "code",
   "execution_count": 116,
   "metadata": {},
   "outputs": [
    {
     "name": "stdout",
     "output_type": "stream",
     "text": [
      "5 4 3 2 1\n"
     ]
    }
   ],
   "source": [
    "print(formatter.format(5, 4, 3, 2, 1))"
   ]
  },
  {
   "cell_type": "code",
   "execution_count": 117,
   "metadata": {},
   "outputs": [
    {
     "name": "stdout",
     "output_type": "stream",
     "text": [
      "five four three two one\n"
     ]
    }
   ],
   "source": [
    "print(formatter.format(\"five\", \"four\", \"three\", \"two\", \"one\"))"
   ]
  },
  {
   "cell_type": "code",
   "execution_count": 120,
   "metadata": {},
   "outputs": [
    {
     "name": "stdout",
     "output_type": "stream",
     "text": [
      "Give me a sequence please.\n"
     ]
    }
   ],
   "source": [
    "print(formatter.format(\"Give\", \"me\", \"a\", \"sequence\", \"please.\"))"
   ]
  },
  {
   "cell_type": "code",
   "execution_count": 126,
   "metadata": {},
   "outputs": [
    {
     "name": "stdout",
     "output_type": "stream",
     "text": [
      "{} {} {} {} {} {} {} {} {} {} {} {} {} {} {} {} {} {} {} {} {} {} {} {} {}\n"
     ]
    }
   ],
   "source": [
    "print(formatter.format(formatter, formatter, formatter, formatter, formatter))\n"
   ]
  },
  {
   "cell_type": "code",
   "execution_count": 52,
   "metadata": {},
   "outputs": [
    {
     "name": "stdout",
     "output_type": "stream",
     "text": [
      "Have a nice day Sir!\n"
     ]
    }
   ],
   "source": [
    "print(formatter.format(\n",
    "    \"Have\",\n",
    "    \"a\",\n",
    "    \"nice day\",\n",
    "    \"Sir!\"\n",
    "))"
   ]
  },
  {
   "cell_type": "markdown",
   "metadata": {},
   "source": [
    "# Printing, Printing, Printing"
   ]
  },
  {
   "cell_type": "markdown",
   "metadata": {},
   "source": [
    "## Exercise 9"
   ]
  },
  {
   "cell_type": "markdown",
   "metadata": {},
   "source": [
    "In this exercise we use the \"n\" to jump from one paragraph to another and we use the three double quotes to write more."
   ]
  },
  {
   "cell_type": "code",
   "execution_count": 68,
   "metadata": {},
   "outputs": [],
   "source": [
    "cars = \"blue, red, white, pink, yellow, green, black\""
   ]
  },
  {
   "cell_type": "code",
   "execution_count": 69,
   "metadata": {},
   "outputs": [
    {
     "name": "stdout",
     "output_type": "stream",
     "text": [
      "Here are the cars:  blue, red, white, pink, yellow, green, black\n"
     ]
    }
   ],
   "source": [
    " print(\"Here are the cars: \", cars)"
   ]
  },
  {
   "cell_type": "code",
   "execution_count": 72,
   "metadata": {},
   "outputs": [],
   "source": [
    " drivers = \"Carl\\nBen\\nJhon\\nKen\\nJhonny\\nBenito\\nWalter\""
   ]
  },
  {
   "cell_type": "code",
   "execution_count": 73,
   "metadata": {},
   "outputs": [
    {
     "name": "stdout",
     "output_type": "stream",
     "text": [
      "Here are the drivers:  Carl\n",
      "Ben\n",
      "Jhon\n",
      "Ken\n",
      "Jhonny\n",
      "Benito\n",
      "Walter\n"
     ]
    }
   ],
   "source": [
    " print(\"Here are the drivers: \", drivers)"
   ]
  },
  {
   "cell_type": "code",
   "execution_count": 64,
   "metadata": {},
   "outputs": [
    {
     "name": "stdout",
     "output_type": "stream",
     "text": [
      "Here we have the best drivers in the whole Continent.\n"
     ]
    }
   ],
   "source": [
    " print(\"\"\"Here we have the best drivers in the whole Continent.\"\"\")"
   ]
  },
  {
   "cell_type": "markdown",
   "metadata": {},
   "source": [
    "# What was that?"
   ]
  },
  {
   "cell_type": "markdown",
   "metadata": {},
   "source": [
    "## Exercise 10"
   ]
  },
  {
   "cell_type": "markdown",
   "metadata": {},
   "source": [
    "Here I learned how to do more short the introduction and printing in the easier way."
   ]
  },
  {
   "cell_type": "code",
   "execution_count": 127,
   "metadata": {},
   "outputs": [],
   "source": [
    "N = \"I'm Oscar Nava and I finished my Homework\""
   ]
  },
  {
   "cell_type": "code",
   "execution_count": 128,
   "metadata": {},
   "outputs": [],
   "source": [
    "P = \"My partner Pedro hasn't finished he´s homework\""
   ]
  },
  {
   "cell_type": "code",
   "execution_count": 129,
   "metadata": {},
   "outputs": [],
   "source": [
    "K = \"My father´s car is outside\""
   ]
  },
  {
   "cell_type": "code",
   "execution_count": 132,
   "metadata": {},
   "outputs": [],
   "source": [
    "NV = \"\"\"\n",
    "I'll make a list of my duties:\n",
    "\\t* Work in Python\n",
    "\\t* Study \n",
    "\\t* Take a break\n",
    "\\t* Eat a lot\n",
    "\"\"\""
   ]
  },
  {
   "cell_type": "code",
   "execution_count": 133,
   "metadata": {},
   "outputs": [
    {
     "name": "stdout",
     "output_type": "stream",
     "text": [
      "I'm Oscar Nava and I finished my Homework\n"
     ]
    }
   ],
   "source": [
    "print(N)"
   ]
  },
  {
   "cell_type": "code",
   "execution_count": 134,
   "metadata": {},
   "outputs": [
    {
     "name": "stdout",
     "output_type": "stream",
     "text": [
      "My partner Pedro hasn't finished he´s homework\n"
     ]
    }
   ],
   "source": [
    "print(P)"
   ]
  },
  {
   "cell_type": "code",
   "execution_count": 135,
   "metadata": {},
   "outputs": [
    {
     "name": "stdout",
     "output_type": "stream",
     "text": [
      "My father´s car is outside\n"
     ]
    }
   ],
   "source": [
    "print(K)"
   ]
  },
  {
   "cell_type": "code",
   "execution_count": 136,
   "metadata": {},
   "outputs": [
    {
     "name": "stdout",
     "output_type": "stream",
     "text": [
      "\n",
      "I'll make a list of my duties:\n",
      "\t* Work in Python\n",
      "\t* Study \n",
      "\t* Take a break\n",
      "\t* Eat a lot\n",
      "\n"
     ]
    }
   ],
   "source": [
    "print(NV)"
   ]
  }
 ],
 "metadata": {
  "kernelspec": {
   "display_name": "Python 3",
   "language": "python",
   "name": "python3"
  },
  "language_info": {
   "codemirror_mode": {
    "name": "ipython",
    "version": 3
   },
   "file_extension": ".py",
   "mimetype": "text/x-python",
   "name": "python",
   "nbconvert_exporter": "python",
   "pygments_lexer": "ipython3",
   "version": "3.7.3"
  }
 },
 "nbformat": 4,
 "nbformat_minor": 2
}
