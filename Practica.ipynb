{
 "cells": [
  {
   "cell_type": "code",
   "execution_count": 4,
   "metadata": {},
   "outputs": [
    {
     "name": "stdout",
     "output_type": "stream",
     "text": [
      "How many names are you going to introduce? :2\n",
      "Introduce names:Erwin\n",
      "Introduce names:Walter\n",
      "Names that you write it:\n",
      "Erwin\n",
      "Walter\n",
      "What name are you going to use?:0\n",
      "Erwin\n"
     ]
    }
   ],
   "source": [
    "values= int(input(\"How many names are you going to introduce? :\"))\n",
    "names=[]\n",
    "total=0\n",
    "for i in range(0,values):\n",
    "    x=str(input(\"Introduce names:\"))\n",
    "    names.append(x)\n",
    "    \n",
    "print(\"Names that you write it:\")\n",
    "\n",
    "for name in names:\n",
    "    print(name)\n",
    "y=int(input(\"What name are you going to use?:\"))\n",
    "if y>values or y<0:\n",
    "    print(\"Sorry, but just write the number of the list that you make\")\n",
    "    \n",
    "else:\n",
    "    print (names[y])"
   ]
  },
  {
   "cell_type": "code",
   "execution_count": null,
   "metadata": {},
   "outputs": [],
   "source": []
  }
 ],
 "metadata": {
  "kernelspec": {
   "display_name": "Python 3",
   "language": "python",
   "name": "python3"
  },
  "language_info": {
   "codemirror_mode": {
    "name": "ipython",
    "version": 3
   },
   "file_extension": ".py",
   "mimetype": "text/x-python",
   "name": "python",
   "nbconvert_exporter": "python",
   "pygments_lexer": "ipython3",
   "version": "3.7.4"
  }
 },
 "nbformat": 4,
 "nbformat_minor": 2
}
